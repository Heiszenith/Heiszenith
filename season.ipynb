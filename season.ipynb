{
  "nbformat": 4,
  "nbformat_minor": 0,
  "metadata": {
    "colab": {
      "name": "season.ipynb",
      "provenance": [],
      "collapsed_sections": [],
      "authorship_tag": "ABX9TyOKCb3RqpJMJ1JVzAGKS9BE",
      "include_colab_link": true
    },
    "kernelspec": {
      "name": "python3",
      "display_name": "Python 3"
    },
    "language_info": {
      "name": "python"
    }
  },
  "cells": [
    {
      "cell_type": "markdown",
      "metadata": {
        "id": "view-in-github",
        "colab_type": "text"
      },
      "source": [
        "<a href=\"https://colab.research.google.com/github/Heiszenith/Heiszenith/blob/main/season.ipynb\" target=\"_parent\"><img src=\"https://colab.research.google.com/assets/colab-badge.svg\" alt=\"Open In Colab\"/></a>"
      ]
    },
    {
      "cell_type": "code",
      "metadata": {
        "colab": {
          "base_uri": "https://localhost:8080/"
        },
        "id": "KqeeXiAkVgor",
        "outputId": "236f1ec1-af1e-492d-9135-5a19a975c985"
      },
      "source": [
        "def season():\n",
        "    \n",
        "    month=str(input('>>> Enter month to get season: '))\n",
        "    \n",
        "   \n",
        "    \n",
        "    month_list = {'January' : 'Winter', 'February' : 'Winter', 'March' : 'Spring','April' : 'Spring', 'May' : 'Spring',\\\n",
        "            'June' : 'Summer', 'July' : 'Summer', 'August' : 'Summer', 'September' : 'Autumn', \\\n",
        "               'October' : 'Autumn', 'November' : 'Autumn', 'December' : 'Winter'}\n",
        "    \n",
        "    if len(month) > 3 and len(month) < 9:\n",
        "        \n",
        "        for month1, season1 in month_list.items():\n",
        "            \n",
        "            if month1 == month.title():\n",
        "                \n",
        "                print(f'The season of {month1} is {season1}')\n",
        "                x = 'found'\n",
        "                \n",
        "                break\n",
        "                \n",
        "            x = 'not found'\n",
        "            \n",
        "            \n",
        "    elif len(month) == 3:\n",
        "        \n",
        "        for month1, season1 in month_list.items():\n",
        "        \n",
        "            if month1.startswith(month.title()):\n",
        "                \n",
        "                print(f'The season of {month1} is {season1}')\n",
        "                \n",
        "                x = 'found'\n",
        "                \n",
        "                break\n",
        "                \n",
        "            x = 'not found'\n",
        "               \n",
        "    else:\n",
        "        \n",
        "        print('The month you entered is not valid. Try again!')\n",
        "        \n",
        "        \n",
        "    if x == 'not found':\n",
        "        \n",
        "        print('The month you entered is not valid. Try again!')\n",
        "        \n",
        "\n",
        "season()"
      ],
      "execution_count": 1,
      "outputs": [
        {
          "output_type": "stream",
          "name": "stdout",
          "text": [
            ">>> Enter month to get season: jun\n",
            "The season of June is Summer\n"
          ]
        }
      ]
    }
  ]
}